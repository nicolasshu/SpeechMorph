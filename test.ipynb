{
 "cells": [
  {
   "cell_type": "code",
   "execution_count": 1,
   "metadata": {
    "collapsed": false
   },
   "outputs": [],
   "source": [
    "import numpy as np\n",
    "import os\n",
    "from scipy.io.wavfile import read as wavread\n",
    "import IPython\n",
    "import python_speech_features as sf"
   ]
  },
  {
   "cell_type": "code",
   "execution_count": 2,
   "metadata": {
    "collapsed": true
   },
   "outputs": [],
   "source": [
    "speakers = ['awb','bdl','clb','jmk','ksp','rms','slt']"
   ]
  },
  {
   "cell_type": "code",
   "execution_count": 3,
   "metadata": {
    "collapsed": true
   },
   "outputs": [],
   "source": [
    "root = os.getcwd()\n",
    "folderpath = os.path.join(root,'datasets',speakers[0],'wav')\n",
    "files = os.listdir(folderpath)"
   ]
  },
  {
   "cell_type": "code",
   "execution_count": 4,
   "metadata": {
    "collapsed": true
   },
   "outputs": [],
   "source": [
    "for file in files:\n",
    "    file = os.path.join(folderpath,file)\n",
    "    IPython.display.Audio(file)\n",
    "    fs,audio = wavread(file)\n",
    "    break\n",
    "    "
   ]
  },
  {
   "cell_type": "code",
   "execution_count": 5,
   "metadata": {
    "collapsed": false
   },
   "outputs": [
    {
     "name": "stdout",
     "output_type": "stream",
     "text": [
      "[ -8 -24 -27 ...  38  34  25]\n"
     ]
    }
   ],
   "source": [
    "print(audio)"
   ]
  },
  {
   "cell_type": "code",
   "execution_count": null,
   "metadata": {
    "collapsed": false
   },
   "outputs": [],
   "source": []
  },
  {
   "cell_type": "code",
   "execution_count": 6,
   "metadata": {
    "collapsed": false
   },
   "outputs": [],
   "source": [
    "mfcc_features = sf.mfcc(audio,fs)"
   ]
  },
  {
   "cell_type": "markdown",
   "metadata": {},
   "source": [
    "## Instructions\n",
    "In order to print the *MFCC feature* you **need** to do this:\n",
    "\n",
    "$$x = \\sqrt{124}$$"
   ]
  },
  {
   "cell_type": "code",
   "execution_count": 8,
   "metadata": {
    "collapsed": false
   },
   "outputs": [
    {
     "name": "stdout",
     "output_type": "stream",
     "text": [
      "[[10.07479062 -3.72291861  1.14644589 ...  4.94412822 -5.67216468\n",
      "  -6.11347536]\n",
      " [10.1212013  -2.98826582  4.31310706 ...  3.432386   -4.06984746\n",
      "  -2.53948449]\n",
      " [10.09523002 -5.38753744  2.40650736 ...  4.22493773  4.21430668\n",
      "  -1.26152953]\n",
      " ...\n",
      " [10.20801659 -3.97239165 -2.187377   ... 11.23246333  9.16079839\n",
      "   9.02958017]\n",
      " [10.03700399 -3.66046761 -2.77102967 ... 12.41465271  3.36126699\n",
      "   2.45212702]\n",
      " [ 9.86528012 -3.40131297 -2.74079655 ...  6.90902115 -2.40698741\n",
      "  -5.03798807]]\n"
     ]
    }
   ],
   "source": [
    "print(mfcc_features)"
   ]
  },
  {
   "cell_type": "code",
   "execution_count": 11,
   "metadata": {
    "collapsed": false
   },
   "outputs": [
    {
     "data": {
      "text/plain": [
       "(399, 13)"
      ]
     },
     "execution_count": 11,
     "metadata": {},
     "output_type": "execute_result"
    }
   ],
   "source": [
    "mfcc_features.shape"
   ]
  },
  {
   "cell_type": "code",
   "execution_count": 12,
   "metadata": {
    "collapsed": false
   },
   "outputs": [
    {
     "data": {
      "text/plain": [
       "64000"
      ]
     },
     "execution_count": 12,
     "metadata": {},
     "output_type": "execute_result"
    }
   ],
   "source": [
    "len(audio)"
   ]
  },
  {
   "cell_type": "code",
   "execution_count": null,
   "metadata": {
    "collapsed": true
   },
   "outputs": [],
   "source": []
  }
 ],
 "metadata": {
  "kernelspec": {
   "display_name": "Python 3",
   "language": "python",
   "name": "python3"
  },
  "language_info": {
   "codemirror_mode": {
    "name": "ipython",
    "version": 3
   },
   "file_extension": ".py",
   "mimetype": "text/x-python",
   "name": "python",
   "nbconvert_exporter": "python",
   "pygments_lexer": "ipython3",
   "version": "3.6.7"
  }
 },
 "nbformat": 4,
 "nbformat_minor": 2
}
